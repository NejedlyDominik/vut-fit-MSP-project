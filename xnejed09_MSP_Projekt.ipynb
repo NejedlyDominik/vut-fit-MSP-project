{
 "cells": [
  {
   "attachments": {},
   "cell_type": "markdown",
   "metadata": {},
   "source": [
    "# Projekt MSP\n",
    "\n",
    "Dominik Nejedlý (xnejed09)\n",
    "\n",
    "Tento jupyter notebook obsahuje převážně pouze výpočty. Podrobný popis prováděných operací a postupů je dostupný v přiložené PDF dokumentaci."
   ]
  },
  {
   "cell_type": "code",
   "execution_count": 1,
   "metadata": {},
   "outputs": [],
   "source": [
    "import numpy as np\n",
    "import pandas as pd\n",
    "import statsmodels.api as sm\n",
    "import matplotlib.pyplot as plt\n",
    "from scipy.stats import chi2_contingency"
   ]
  },
  {
   "cell_type": "markdown",
   "metadata": {},
   "source": [
    "### Úkol 1\n",
    "\n",
    "Český stát objednal průzkum, jak lidé vnímají střídání zimního a letního času. Průzkum zahrnoval větší města (Praha, Brno), menší města (Znojmo, Tišnov) a obce (Paseky, Horní Lomná, Dolní Věstonice). V průzkumu zjišťovali, co lidem lépe vyhovuje – zda střídání letního a zimního času, pouze zimní čas nebo pouze letní čas. Odpovědi respondentů vidíte v tabulce:"
   ]
  },
  {
   "cell_type": "code",
   "execution_count": 2,
   "metadata": {},
   "outputs": [
    {
     "name": "stdout",
     "output_type": "stream",
     "text": [
      "[[510 324 302 257 147  66  87  21]\n",
      " [352 284 185 178  87  58  65  25]\n",
      " [257 178 124  78  44  33  31   8]\n",
      " [208 129  70  74   6  19  32  17]]\n",
      "[1327  915  681  587  284  176  215   71]\n",
      "[1714 1234  753  555]\n",
      "4256\n"
     ]
    }
   ],
   "source": [
    "observed_t8 = np.array([[510, 324, 302, 257, 147, 66, 87, 21],\n",
    "                     [352, 284, 185, 178, 87, 58, 65, 25],\n",
    "                     [257, 178, 124, 78, 44, 33, 31, 8],\n",
    "                     [208, 129, 70, 74, 6, 19, 32, 17]])\n",
    "\n",
    "print(observed_t8)\n",
    "\n",
    "print(observed_t8.sum(axis=0))\n",
    "print(observed_t8.sum(axis=1))\n",
    "print(observed_t8.sum())"
   ]
  },
  {
   "cell_type": "markdown",
   "metadata": {},
   "source": [
    "Na hladině významnosti $\\alpha = 0,05$ ($\\alpha = 0,05$ je celková chyba 1. druhu pro a) až e)) prověřte hypotézy:\n",
    "\n",
    "a) V městech, obcích a v okolí studenta (8 průzkumů) je stejné procentuální zastoupení obyvatel, co preferují zimní čas. "
   ]
  },
  {
   "cell_type": "code",
   "execution_count": 3,
   "metadata": {},
   "outputs": [
    {
     "name": "stdout",
     "output_type": "stream",
     "text": [
      "[[510 324 302 257 147  66  87  21]\n",
      " [817 591 379 330 137 110 128  50]]\n",
      "[1327  915  681  587  284  176  215   71]\n",
      "[1714 2542]\n",
      "4256\n"
     ]
    }
   ],
   "source": [
    "winter_t8 = np.array([observed_t8[0, :], observed_t8[1:, :].sum(axis=0)])\n",
    "\n",
    "print(winter_t8)\n",
    "\n",
    "print(winter_t8.sum(axis=0))\n",
    "print(winter_t8.sum(axis=1))\n",
    "print(winter_t8.sum())"
   ]
  },
  {
   "cell_type": "code",
   "execution_count": 4,
   "metadata": {},
   "outputs": [
    {
     "name": "stdout",
     "output_type": "stream",
     "text": [
      "expected frequencies: [[534.41682331 368.49389098 274.25610902 236.39990602 114.37406015\n",
      "   70.87969925  86.58599624  28.59351504]\n",
      " [792.58317669 546.50610902 406.74389098 350.60009398 169.62593985\n",
      "  105.12030075 128.41400376  42.40648496]]\n",
      "t (test statsitic): 38.091318712987785\n",
      "k (degrees of freedom): 7\n",
      "p (p-value): 2.9114164591671834e-06\n"
     ]
    }
   ],
   "source": [
    "chi2_w8, p_val_w8, dof_w8, expected_w8 = chi2_contingency(winter_t8)\n",
    "\n",
    "print(f\"expected frequencies: {expected_w8}\")\n",
    "print(f\"t (test statsitic): {chi2_w8}\")\n",
    "print(f\"k (degrees of freedom): {dof_w8}\")\n",
    "print(f\"p (p-value): {p_val_w8}\")"
   ]
  },
  {
   "cell_type": "markdown",
   "metadata": {},
   "source": [
    "b) V městech, obcích a v okolí studenta (8 průzkumů) je stejné procentuální zastoupení obyvatel, co preferují letní čas."
   ]
  },
  {
   "cell_type": "code",
   "execution_count": 5,
   "metadata": {},
   "outputs": [
    {
     "name": "stdout",
     "output_type": "stream",
     "text": [
      "[[352 284 185 178  87  58  65  25]\n",
      " [975 631 496 409 197 118 150  46]]\n",
      "[1327  915  681  587  284  176  215   71]\n",
      "[1234 3022]\n",
      "4256\n"
     ]
    }
   ],
   "source": [
    "summer_t8 = np.array([observed_t8[1, :], observed_t8[[0, 2, 3], :].sum(axis=0)])\n",
    "\n",
    "print(summer_t8)\n",
    "\n",
    "print(summer_t8.sum(axis=0))\n",
    "print(summer_t8.sum(axis=1))\n",
    "print(summer_t8.sum())"
   ]
  },
  {
   "cell_type": "code",
   "execution_count": 6,
   "metadata": {},
   "outputs": [
    {
     "name": "stdout",
     "output_type": "stream",
     "text": [
      "expected frequencies: [[384.75516917 265.29840226 197.45159774 170.1968985   82.34398496\n",
      "   51.03007519  62.33787594  20.58599624]\n",
      " [942.24483083 649.70159774 483.54840226 416.8031015  201.65601504\n",
      "  124.96992481 152.66212406  50.41400376]]\n",
      "t (test statsitic): 10.598035641253666\n",
      "k (degrees of freedom): 7\n",
      "p (p-value): 0.157138898028678\n"
     ]
    }
   ],
   "source": [
    "chi2_s8, p_val_s8, dof_s8, expected_s8 = chi2_contingency(summer_t8)\n",
    "\n",
    "print(f\"expected frequencies: {expected_s8}\")\n",
    "print(f\"t (test statsitic): {chi2_s8}\")\n",
    "print(f\"k (degrees of freedom): {dof_s8}\")\n",
    "print(f\"p (p-value): {p_val_s8}\")"
   ]
  },
  {
   "cell_type": "markdown",
   "metadata": {},
   "source": [
    "c) V městech, obcích a v okolí studenta (8 průzkumů) je stejné procentuální zastoupení obyvatel, co preferují střídání časů."
   ]
  },
  {
   "cell_type": "code",
   "execution_count": 7,
   "metadata": {},
   "outputs": [
    {
     "name": "stdout",
     "output_type": "stream",
     "text": [
      "[[ 257  178  124   78   44   33   31    8]\n",
      " [1070  737  557  509  240  143  184   63]]\n",
      "[1327  915  681  587  284  176  215   71]\n",
      "[ 753 3503]\n",
      "4256\n"
     ]
    }
   ],
   "source": [
    "alternation_t8 = np.array([observed_t8[2, :], observed_t8[[0, 1, 3], :].sum(axis=0)])\n",
    "\n",
    "print(alternation_t8)\n",
    "\n",
    "print(alternation_t8.sum(axis=0))\n",
    "print(alternation_t8.sum(axis=1))\n",
    "print(alternation_t8.sum())"
   ]
  },
  {
   "cell_type": "code",
   "execution_count": 8,
   "metadata": {},
   "outputs": [
    {
     "name": "stdout",
     "output_type": "stream",
     "text": [
      "expected frequencies: [[ 234.78171992  161.88792293  120.48707707  103.85596805   50.24718045\n",
      "    31.13909774   38.03923872   12.56179511]\n",
      " [1092.21828008  753.11207707  560.51292293  483.14403195  233.75281955\n",
      "   144.86090226  176.96076128   58.43820489]]\n",
      "t (test statsitic): 17.122219809484445\n",
      "k (degrees of freedom): 7\n",
      "p (p-value): 0.01662485808564772\n"
     ]
    }
   ],
   "source": [
    "chi2_a8, p_val_a8, dof_a8, expected_a8 = chi2_contingency(alternation_t8)\n",
    "\n",
    "print(f\"expected frequencies: {expected_a8}\")\n",
    "print(f\"t (test statsitic): {chi2_a8}\")\n",
    "print(f\"k (degrees of freedom): {dof_a8}\")\n",
    "print(f\"p (p-value): {p_val_a8}\")"
   ]
  },
  {
   "cell_type": "markdown",
   "metadata": {},
   "source": [
    "d) U větších měst, menších měst a obcí (3 průzkumy) je stejné procentuální zastoupení obyvatel, co preferují zimní čas."
   ]
  },
  {
   "cell_type": "code",
   "execution_count": 9,
   "metadata": {},
   "outputs": [
    {
     "name": "stdout",
     "output_type": "stream",
     "text": [
      "[[834 559 300]\n",
      " [636 363 210]\n",
      " [435 202 108]\n",
      " [337 144  57]]\n",
      "[2242 1268  675]\n",
      "[1693 1209  745  538]\n",
      "4185\n"
     ]
    }
   ],
   "source": [
    "observed_t3 = np.column_stack([observed_t8[:, 0:2].sum(axis=1), observed_t8[:, 2:4].sum(axis=1), observed_t8[:, 4:7].sum(axis=1)])\n",
    "\n",
    "print(observed_t3)\n",
    "\n",
    "print(observed_t3.sum(axis=0))\n",
    "print(observed_t3.sum(axis=1))\n",
    "print(observed_t3.sum())"
   ]
  },
  {
   "cell_type": "code",
   "execution_count": 10,
   "metadata": {},
   "outputs": [
    {
     "name": "stdout",
     "output_type": "stream",
     "text": [
      "[[ 834  559  300]\n",
      " [1408  709  375]]\n",
      "[2242 1268  675]\n",
      "[1693 2492]\n",
      "4185\n"
     ]
    }
   ],
   "source": [
    "winter_t3 = np.array([observed_t3[0, :], observed_t3[1:, :].sum(axis=0)])\n",
    "\n",
    "print(winter_t3)\n",
    "\n",
    "print(winter_t3.sum(axis=0))\n",
    "print(winter_t3.sum(axis=1))\n",
    "print(winter_t3.sum())"
   ]
  },
  {
   "cell_type": "code",
   "execution_count": 11,
   "metadata": {},
   "outputs": [
    {
     "name": "stdout",
     "output_type": "stream",
     "text": [
      "expected frequencies: [[ 906.97873357  512.9567503   273.06451613]\n",
      " [1335.02126643  755.0432497   401.93548387]]\n",
      "t (test statsitic): 21.26414731413258\n",
      "k (degrees of freedom): 2\n",
      "p (p-value): 2.412954204737471e-05\n"
     ]
    }
   ],
   "source": [
    "chi2_w3, p_val_w3, dof_w3, expected_w3 = chi2_contingency(winter_t3)\n",
    "\n",
    "print(f\"expected frequencies: {expected_w3}\")\n",
    "print(f\"t (test statsitic): {chi2_w3}\")\n",
    "print(f\"k (degrees of freedom): {dof_w3}\")\n",
    "print(f\"p (p-value): {p_val_w3}\")"
   ]
  },
  {
   "cell_type": "markdown",
   "metadata": {},
   "source": [
    "e) U větších měst, menších měst a obcí (3 průzkumy) je stejné procentuální zastoupení nerozhodnutých obyvatel."
   ]
  },
  {
   "cell_type": "code",
   "execution_count": 12,
   "metadata": {},
   "outputs": [
    {
     "name": "stdout",
     "output_type": "stream",
     "text": [
      "[[ 337  144   57]\n",
      " [1905 1124  618]]\n",
      "[2242 1268  675]\n",
      "[ 538 3647]\n",
      "4185\n"
     ]
    }
   ],
   "source": [
    "no_opinion_t3 = np.array([observed_t3[3, :], observed_t3[0:3, :].sum(axis=0)])\n",
    "\n",
    "print(no_opinion_t3)\n",
    "\n",
    "print(no_opinion_t3.sum(axis=0))\n",
    "print(no_opinion_t3.sum(axis=1))\n",
    "print(no_opinion_t3.sum())"
   ]
  },
  {
   "cell_type": "code",
   "execution_count": 13,
   "metadata": {},
   "outputs": [
    {
     "name": "stdout",
     "output_type": "stream",
     "text": [
      "expected frequencies: [[ 288.21887694  163.00692951   86.77419355]\n",
      " [1953.78112306 1104.99307049  588.22580645]]\n",
      "t (test statsitic): 23.740625722427865\n",
      "k (degrees of freedom): 2\n",
      "p (p-value): 6.99501461000237e-06\n"
     ]
    }
   ],
   "source": [
    "chi2_n3, p_val_n3, dof_n3, expected_n3 = chi2_contingency(no_opinion_t3)\n",
    "\n",
    "print(f\"expected frequencies: {expected_n3}\")\n",
    "print(f\"t (test statsitic): {chi2_n3}\")\n",
    "print(f\"k (degrees of freedom): {dof_n3}\")\n",
    "print(f\"p (p-value): {p_val_n3}\")"
   ]
  },
  {
   "cell_type": "markdown",
   "metadata": {},
   "source": [
    "f) Na základě odpovědí z okolí studenta zkuste určit z dat, zda student prováděl výzkum ve větším městě, menším městě nebo v obci.\n",
    "\n",
    "- větší města"
   ]
  },
  {
   "cell_type": "code",
   "execution_count": 14,
   "metadata": {},
   "outputs": [
    {
     "name": "stdout",
     "output_type": "stream",
     "text": [
      "[[ 21 834]\n",
      " [ 25 636]\n",
      " [  8 435]\n",
      " [ 17 337]]\n",
      "[  71 2242]\n",
      "[855 661 443 354]\n",
      "2313\n"
     ]
    }
   ],
   "source": [
    "neighborhood_larger_cities = np.column_stack([observed_t8[:, 7], observed_t3[:, 0]])\n",
    "\n",
    "print(neighborhood_larger_cities)\n",
    "\n",
    "print(neighborhood_larger_cities.sum(axis=0))\n",
    "print(neighborhood_larger_cities.sum(axis=1))\n",
    "print(neighborhood_larger_cities.sum())"
   ]
  },
  {
   "cell_type": "code",
   "execution_count": 15,
   "metadata": {},
   "outputs": [
    {
     "name": "stdout",
     "output_type": "stream",
     "text": [
      "expected frequencies: [[ 26.24513619 828.75486381]\n",
      " [ 20.29009944 640.70990056]\n",
      " [ 13.59835711 429.40164289]\n",
      " [ 10.86640726 343.13359274]]\n",
      "t (test statsitic): 8.158938986634517\n",
      "k (degrees of freedom): 3\n",
      "p (p-value): 0.042838621056253266\n"
     ]
    }
   ],
   "source": [
    "chi2_nb_lc, p_val_nb_lc, dof_nb_lc, expected_nb_lc = chi2_contingency(neighborhood_larger_cities)\n",
    "\n",
    "print(f\"expected frequencies: {expected_nb_lc}\")\n",
    "print(f\"t (test statsitic): {chi2_nb_lc}\")\n",
    "print(f\"k (degrees of freedom): {dof_nb_lc}\")\n",
    "print(f\"p (p-value): {p_val_nb_lc}\")"
   ]
  },
  {
   "cell_type": "markdown",
   "metadata": {},
   "source": [
    "- menší města"
   ]
  },
  {
   "cell_type": "code",
   "execution_count": 16,
   "metadata": {},
   "outputs": [
    {
     "name": "stdout",
     "output_type": "stream",
     "text": [
      "[[ 21 559]\n",
      " [ 25 363]\n",
      " [  8 202]\n",
      " [ 17 144]]\n",
      "[  71 1268]\n",
      "[580 388 210 161]\n",
      "1339\n"
     ]
    }
   ],
   "source": [
    "neighborhood_smaller_cities = np.column_stack([observed_t8[:, 7], observed_t3[:, 1]])\n",
    "\n",
    "print(neighborhood_smaller_cities)\n",
    "\n",
    "print(neighborhood_smaller_cities.sum(axis=0))\n",
    "print(neighborhood_smaller_cities.sum(axis=1))\n",
    "print(neighborhood_smaller_cities.sum())"
   ]
  },
  {
   "cell_type": "code",
   "execution_count": 17,
   "metadata": {},
   "outputs": [
    {
     "name": "stdout",
     "output_type": "stream",
     "text": [
      "expected frequencies: [[ 30.75429425 549.24570575]\n",
      " [ 20.57356236 367.42643764]\n",
      " [ 11.1351755  198.8648245 ]\n",
      " [  8.53696789 152.46303211]]\n",
      "t (test statsitic): 14.064331221138593\n",
      "k (degrees of freedom): 3\n",
      "p (p-value): 0.0028188819150275174\n"
     ]
    }
   ],
   "source": [
    "chi2_nb_sc, p_val_nb_sc, dof_nb_sc, expected_nb_sc = chi2_contingency(neighborhood_smaller_cities)\n",
    "\n",
    "print(f\"expected frequencies: {expected_nb_sc}\")\n",
    "print(f\"t (test statsitic): {chi2_nb_sc}\")\n",
    "print(f\"k (degrees of freedom): {dof_nb_sc}\")\n",
    "print(f\"p (p-value): {p_val_nb_sc}\")"
   ]
  },
  {
   "cell_type": "markdown",
   "metadata": {},
   "source": [
    "- obce"
   ]
  },
  {
   "cell_type": "code",
   "execution_count": 18,
   "metadata": {},
   "outputs": [
    {
     "name": "stdout",
     "output_type": "stream",
     "text": [
      "[[ 21 300]\n",
      " [ 25 210]\n",
      " [  8 108]\n",
      " [ 17  57]]\n",
      "[ 71 675]\n",
      "[321 235 116  74]\n",
      "746\n"
     ]
    }
   ],
   "source": [
    "neighborhood_villages = np.column_stack([observed_t8[:, 7], observed_t3[:, 2]])\n",
    "\n",
    "print(neighborhood_villages)\n",
    "\n",
    "print(neighborhood_villages.sum(axis=0))\n",
    "print(neighborhood_villages.sum(axis=1))\n",
    "print(neighborhood_villages.sum())"
   ]
  },
  {
   "cell_type": "code",
   "execution_count": 19,
   "metadata": {},
   "outputs": [
    {
     "name": "stdout",
     "output_type": "stream",
     "text": [
      "expected frequencies: [[ 30.55093834 290.44906166]\n",
      " [ 22.36595174 212.63404826]\n",
      " [ 11.04021448 104.95978552]\n",
      " [  7.04289544  66.95710456]]\n",
      "t (test statsitic): 20.125884488393417\n",
      "k (degrees of freedom): 3\n",
      "p (p-value): 0.0001598448011913254\n"
     ]
    }
   ],
   "source": [
    "chi2_nb_v, p_val_nb_v, dof_nb_v, expected_nb_v = chi2_contingency(neighborhood_villages)\n",
    "\n",
    "print(f\"expected frequencies: {expected_nb_v}\")\n",
    "print(f\"t (test statsitic): {chi2_nb_v}\")\n",
    "print(f\"k (degrees of freedom): {dof_nb_v}\")\n",
    "print(f\"p (p-value): {p_val_nb_v}\")"
   ]
  },
  {
   "cell_type": "markdown",
   "metadata": {},
   "source": [
    "### Úkol 2\n",
    "\n",
    "Data sestávají ze 70 realizací 3 náhodných veličin. První dva sloupce v tabulce (Excel -- Úkol 2 -- Data) obsahují vysvětlující proměnné X a Y (regresory -- pro všechny zadání stejné), třetí sloupec -- viz. číslo zadání -- udává hodnoty závislé (vysvětlované) proměnné Z. Testy provádějte na hladině významnosti 0,05%, intervalové odhady vypočítejte se spolehlivosti 95%. Pro zpřehlednění textu označte jednotlivé kroky."
   ]
  },
  {
   "cell_type": "code",
   "execution_count": 20,
   "metadata": {},
   "outputs": [
    {
     "data": {
      "text/html": [
       "<div>\n",
       "<style scoped>\n",
       "    .dataframe tbody tr th:only-of-type {\n",
       "        vertical-align: middle;\n",
       "    }\n",
       "\n",
       "    .dataframe tbody tr th {\n",
       "        vertical-align: top;\n",
       "    }\n",
       "\n",
       "    .dataframe thead th {\n",
       "        text-align: right;\n",
       "    }\n",
       "</style>\n",
       "<table border=\"1\" class=\"dataframe\">\n",
       "  <thead>\n",
       "    <tr style=\"text-align: right;\">\n",
       "      <th></th>\n",
       "      <th>xi</th>\n",
       "      <th>yi</th>\n",
       "      <th>zi</th>\n",
       "    </tr>\n",
       "  </thead>\n",
       "  <tbody>\n",
       "    <tr>\n",
       "      <th>0</th>\n",
       "      <td>0.0</td>\n",
       "      <td>0.000000</td>\n",
       "      <td>51.08</td>\n",
       "    </tr>\n",
       "    <tr>\n",
       "      <th>1</th>\n",
       "      <td>0.0</td>\n",
       "      <td>1.666667</td>\n",
       "      <td>30.71</td>\n",
       "    </tr>\n",
       "    <tr>\n",
       "      <th>2</th>\n",
       "      <td>0.0</td>\n",
       "      <td>3.333333</td>\n",
       "      <td>11.17</td>\n",
       "    </tr>\n",
       "    <tr>\n",
       "      <th>3</th>\n",
       "      <td>0.0</td>\n",
       "      <td>5.000000</td>\n",
       "      <td>-120.24</td>\n",
       "    </tr>\n",
       "    <tr>\n",
       "      <th>4</th>\n",
       "      <td>0.0</td>\n",
       "      <td>6.666667</td>\n",
       "      <td>-225.12</td>\n",
       "    </tr>\n",
       "    <tr>\n",
       "      <th>...</th>\n",
       "      <td>...</td>\n",
       "      <td>...</td>\n",
       "      <td>...</td>\n",
       "    </tr>\n",
       "    <tr>\n",
       "      <th>65</th>\n",
       "      <td>20.0</td>\n",
       "      <td>3.333333</td>\n",
       "      <td>-1633.97</td>\n",
       "    </tr>\n",
       "    <tr>\n",
       "      <th>66</th>\n",
       "      <td>20.0</td>\n",
       "      <td>5.000000</td>\n",
       "      <td>-1877.01</td>\n",
       "    </tr>\n",
       "    <tr>\n",
       "      <th>67</th>\n",
       "      <td>20.0</td>\n",
       "      <td>6.666667</td>\n",
       "      <td>-2137.04</td>\n",
       "    </tr>\n",
       "    <tr>\n",
       "      <th>68</th>\n",
       "      <td>20.0</td>\n",
       "      <td>8.333333</td>\n",
       "      <td>-2312.33</td>\n",
       "    </tr>\n",
       "    <tr>\n",
       "      <th>69</th>\n",
       "      <td>20.0</td>\n",
       "      <td>10.000000</td>\n",
       "      <td>-2618.83</td>\n",
       "    </tr>\n",
       "  </tbody>\n",
       "</table>\n",
       "<p>70 rows × 3 columns</p>\n",
       "</div>"
      ],
      "text/plain": [
       "      xi         yi       zi\n",
       "0    0.0   0.000000    51.08\n",
       "1    0.0   1.666667    30.71\n",
       "2    0.0   3.333333    11.17\n",
       "3    0.0   5.000000  -120.24\n",
       "4    0.0   6.666667  -225.12\n",
       "..   ...        ...      ...\n",
       "65  20.0   3.333333 -1633.97\n",
       "66  20.0   5.000000 -1877.01\n",
       "67  20.0   6.666667 -2137.04\n",
       "68  20.0   8.333333 -2312.33\n",
       "69  20.0  10.000000 -2618.83\n",
       "\n",
       "[70 rows x 3 columns]"
      ]
     },
     "execution_count": 20,
     "metadata": {},
     "output_type": "execute_result"
    }
   ],
   "source": [
    "# Load data\n",
    "df = pd.read_excel('MSP_Projekt_2022-23_Zadani_Pá_10.xlsx', sheet_name='Úkol 2 - Data', header=3, names=['xi', 'yi', 'zi'], usecols='A,B,AA')\n",
    "\n",
    "xi = df['xi']\n",
    "yi = df['yi']\n",
    "zi = df['zi']\n",
    "\n",
    "df"
   ]
  },
  {
   "cell_type": "markdown",
   "metadata": {},
   "source": [
    "a) Určete vhodný model pomocí zpětné metody a regresní diagnostiky. V úvahu vezměte model polynomiální – kvadratický (v obou proměnných). Vycházejte tedy z regresní funkce:\n",
    "$$Z = \\beta_1 + \\beta_2X + \\beta_3 Y + \\beta_4 X^2 + \\beta_5 Y^2 + \\beta_6 X \\cdot Y$$\n",
    "až po $Z = \\beta_1$.\n",
    "Vhodnost nalezených modelů porovnejte pomocí koeficientu determinace $R^2$. Možnost zjednodušení jednoho modelu na jeho submodel (model získaný vynecháním některého sloupce matice plánu) ověřte pomocí vhodného testu nulovosti regresních parametrů."
   ]
  },
  {
   "cell_type": "code",
   "execution_count": 21,
   "metadata": {},
   "outputs": [
    {
     "name": "stdout",
     "output_type": "stream",
     "text": [
      "                            OLS Regression Results                            \n",
      "==============================================================================\n",
      "Dep. Variable:                     zi   R-squared:                       0.995\n",
      "Model:                            OLS   Adj. R-squared:                  0.994\n",
      "Method:                 Least Squares   F-statistic:                     2414.\n",
      "Date:                Mon, 12 Dec 2022   Prob (F-statistic):           1.84e-71\n",
      "Time:                        09:48:43   Log-Likelihood:                -370.17\n",
      "No. Observations:                  70   AIC:                             752.3\n",
      "Df Residuals:                      64   BIC:                             765.8\n",
      "Df Model:                           5                                         \n",
      "Covariance Type:            nonrobust                                         \n",
      "==============================================================================\n",
      "                 coef    std err          t      P>|t|      [0.025      0.975]\n",
      "------------------------------------------------------------------------------\n",
      "const         68.9179     23.979      2.874      0.005      21.015     116.821\n",
      "x1            -4.4562      3.741     -1.191      0.238     -11.930       3.018\n",
      "x2           -14.6426      7.062     -2.074      0.042     -28.750      -0.535\n",
      "x3            -2.9886      0.167    -17.910      0.000      -3.322      -2.655\n",
      "x4            -3.6310      0.622     -5.835      0.000      -4.874      -2.388\n",
      "x5            -4.5350      0.281    -16.114      0.000      -5.097      -3.973\n",
      "==============================================================================\n",
      "Omnibus:                        1.080   Durbin-Watson:                   1.966\n",
      "Prob(Omnibus):                  0.583   Jarque-Bera (JB):                0.509\n",
      "Skew:                           0.128   Prob(JB):                        0.775\n",
      "Kurtosis:                       3.329   Cond. No.                         839.\n",
      "==============================================================================\n",
      "\n",
      "Notes:\n",
      "[1] Standard Errors assume that the covariance matrix of the errors is correctly specified.\n"
     ]
    }
   ],
   "source": [
    "f = np.column_stack((xi, yi, xi**2, yi**2, xi * yi))\n",
    "f = sm.add_constant(f)\n",
    "\n",
    "model = sm.OLS(zi, f).fit()\n",
    "\n",
    "print(model.summary())"
   ]
  },
  {
   "attachments": {},
   "cell_type": "markdown",
   "metadata": {},
   "source": [
    "Odstranění koeficientu $\\beta_2$:"
   ]
  },
  {
   "cell_type": "code",
   "execution_count": 22,
   "metadata": {},
   "outputs": [
    {
     "name": "stdout",
     "output_type": "stream",
     "text": [
      "                            OLS Regression Results                            \n",
      "==============================================================================\n",
      "Dep. Variable:                     zi   R-squared:                       0.995\n",
      "Model:                            OLS   Adj. R-squared:                  0.994\n",
      "Method:                 Least Squares   F-statistic:                     2998.\n",
      "Date:                Mon, 12 Dec 2022   Prob (F-statistic):           6.34e-73\n",
      "Time:                        09:48:43   Log-Likelihood:                -370.93\n",
      "No. Observations:                  70   AIC:                             751.9\n",
      "Df Residuals:                      65   BIC:                             763.1\n",
      "Df Model:                           4                                         \n",
      "Covariance Type:            nonrobust                                         \n",
      "==============================================================================\n",
      "                 coef    std err          t      P>|t|      [0.025      0.975]\n",
      "------------------------------------------------------------------------------\n",
      "const         49.3070     17.489      2.819      0.006      14.380      84.234\n",
      "x1           -13.3819      7.004     -1.911      0.060     -27.370       0.607\n",
      "x2            -3.1659      0.076    -41.839      0.000      -3.317      -3.015\n",
      "x3            -3.6310      0.624     -5.816      0.000      -4.878      -2.384\n",
      "x4            -4.6610      0.262    -17.817      0.000      -5.183      -4.139\n",
      "==============================================================================\n",
      "Omnibus:                        1.158   Durbin-Watson:                   1.928\n",
      "Prob(Omnibus):                  0.560   Jarque-Bera (JB):                0.550\n",
      "Skew:                           0.002   Prob(JB):                        0.760\n",
      "Kurtosis:                       3.434   Cond. No.                         623.\n",
      "==============================================================================\n",
      "\n",
      "Notes:\n",
      "[1] Standard Errors assume that the covariance matrix of the errors is correctly specified.\n"
     ]
    }
   ],
   "source": [
    "model_wo_xi = sm.OLS(zi, f[:, [0, 2, 3, 4, 5]]).fit()\n",
    "\n",
    "print(model_wo_xi.summary())"
   ]
  },
  {
   "attachments": {},
   "cell_type": "markdown",
   "metadata": {},
   "source": [
    "Odstranění koeficientů $\\beta_2$ a $\\beta_3$:"
   ]
  },
  {
   "cell_type": "code",
   "execution_count": 23,
   "metadata": {},
   "outputs": [
    {
     "name": "stdout",
     "output_type": "stream",
     "text": [
      "                            OLS Regression Results                            \n",
      "==============================================================================\n",
      "Dep. Variable:                     zi   R-squared:                       0.994\n",
      "Model:                            OLS   Adj. R-squared:                  0.994\n",
      "Method:                 Least Squares   F-statistic:                     3842.\n",
      "Date:                Mon, 12 Dec 2022   Prob (F-statistic):           5.54e-74\n",
      "Time:                        09:48:43   Log-Likelihood:                -372.84\n",
      "No. Observations:                  70   AIC:                             753.7\n",
      "Df Residuals:                      66   BIC:                             762.7\n",
      "Df Model:                           3                                         \n",
      "Covariance Type:            nonrobust                                         \n",
      "==============================================================================\n",
      "                 coef    std err          t      P>|t|      [0.025      0.975]\n",
      "------------------------------------------------------------------------------\n",
      "const         24.0281     11.663      2.060      0.043       0.741      47.315\n",
      "x1            -3.1227      0.074    -42.405      0.000      -3.270      -2.976\n",
      "x2            -4.6939      0.289    -16.256      0.000      -5.270      -4.117\n",
      "x3            -4.8477      0.247    -19.587      0.000      -5.342      -4.354\n",
      "==============================================================================\n",
      "Omnibus:                        0.127   Durbin-Watson:                   1.966\n",
      "Prob(Omnibus):                  0.938   Jarque-Bera (JB):                0.003\n",
      "Skew:                          -0.016   Prob(JB):                        0.998\n",
      "Kurtosis:                       2.990   Cond. No.                         389.\n",
      "==============================================================================\n",
      "\n",
      "Notes:\n",
      "[1] Standard Errors assume that the covariance matrix of the errors is correctly specified.\n"
     ]
    }
   ],
   "source": [
    "model_wo_xi_yi = sm.OLS(zi, f[:, [0, 3, 4, 5]]).fit()\n",
    "\n",
    "print(model_wo_xi_yi.summary())"
   ]
  },
  {
   "attachments": {},
   "cell_type": "markdown",
   "metadata": {},
   "source": [
    "Tento model (bez koeficientu $\\beta_1$) dosahuje nejlepší R-squared ($0.995$) hodnoty s nejmémě koeficienty (odstranění koeficientu $\\beta_3$ způsobí snížení R-squared na $0.994$). Ačkoli pak odstranění konstanty ($\\beta_1$) způsobí nárůst R-squared na hodnotu $0.998$, nelze tento model použít, jelikož tímto je vynucen průchod modelu počátkem soustavy souřadnic (bod [0, 0, 0]), což pak vede k celkovému zkreslení modelu a snížení úspěšnosti jeho odhadů. Výjimkou je pouze případ, kdy je konstanta již dle odhadu parametrů téměř rovna nule (případně pokud to s velkou jistotou prokáže test)."
   ]
  },
  {
   "attachments": {},
   "cell_type": "markdown",
   "metadata": {},
   "source": [
    "        /\\\n",
    "       /  \\\n",
    "      / || \\\n",
    "        ||    - dostupné z tabulky uvedené výše\n",
    "        ||\n",
    "        ||\n",
    "b) Pro takto získaný model (dostatečný submodel) uveďte v jedné tabulce odhady regresních parametrů metodou nejmenších čtverců a jejich 95% intervaly spolehlivosti."
   ]
  },
  {
   "cell_type": "markdown",
   "metadata": {},
   "source": [
    "c) Nestranně odhadněte rozptyl závisle proměnné."
   ]
  },
  {
   "cell_type": "code",
   "execution_count": 24,
   "metadata": {},
   "outputs": [
    {
     "name": "stdout",
     "output_type": "stream",
     "text": [
      "Point estimate of the variance of the dependent variable Z (by formula): 2617.5018232946823\n",
      "Point estimate of the variance of the dependent variable Z (by function): 2627.1948809412957\n"
     ]
    }
   ],
   "source": [
    "# Compute by formula\n",
    "z2_sum = (zi**2).sum()\n",
    "b1g1 = (24.0281 * zi).sum()\n",
    "b4g4 = -3.1227 * (xi**2 * zi).sum()\n",
    "b5g5 = -4.6939 * (yi**2 * zi).sum()\n",
    "b6g6 = -4.8477 * (xi * yi * zi).sum()\n",
    "\n",
    "print(f'Point estimate of the variance of the dependent variable Z (by formula): {(z2_sum - b1g1 - b4g4 - b5g5 - b6g6)/(70 - 4)}')\n",
    "\n",
    "# Compute\n",
    "print(f'Point estimate of the variance of the dependent variable Z (by function): {model_wo_xi_yi.mse_resid}')"
   ]
  },
  {
   "cell_type": "markdown",
   "metadata": {},
   "source": [
    "d) Vhodným testem zjistěte, že vámi zvolené dva regresní parametry jsou současně nulové."
   ]
  },
  {
   "cell_type": "code",
   "execution_count": 25,
   "metadata": {},
   "outputs": [
    {
     "name": "stdout",
     "output_type": "stream",
     "text": [
      "<F test: F=1358.411783211178, p=2.3818953642317915e-54, df_denom=66, df_num=2>\n"
     ]
    }
   ],
   "source": [
    "H0 = '(const = 0), (x1 = 0)'\n",
    "f_test = model_wo_xi_yi.f_test(H0)\n",
    "print(f_test)"
   ]
  },
  {
   "cell_type": "markdown",
   "metadata": {},
   "source": [
    "e) Vhodným testem zjistěte, že vámi zvolené dva regresní parametry jsou stejné."
   ]
  },
  {
   "cell_type": "code",
   "execution_count": 26,
   "metadata": {},
   "outputs": [
    {
     "name": "stdout",
     "output_type": "stream",
     "text": [
      "                             Test for Constraints                             \n",
      "==============================================================================\n",
      "                 coef    std err          t      P>|t|      [0.025      0.975]\n",
      "------------------------------------------------------------------------------\n",
      "c0             0.1538      0.508      0.303      0.763      -0.860       1.167\n",
      "==============================================================================\n"
     ]
    }
   ],
   "source": [
    "H0 = 'x2 = x3'\n",
    "t_test = model_wo_xi_yi.t_test(H0)\n",
    "print(t_test)"
   ]
  }
 ],
 "metadata": {
  "kernelspec": {
   "display_name": "Python 3.10.8 64-bit",
   "language": "python",
   "name": "python3"
  },
  "language_info": {
   "codemirror_mode": {
    "name": "ipython",
    "version": 3
   },
   "file_extension": ".py",
   "mimetype": "text/x-python",
   "name": "python",
   "nbconvert_exporter": "python",
   "pygments_lexer": "ipython3",
   "version": "3.10.8"
  },
  "orig_nbformat": 4,
  "vscode": {
   "interpreter": {
    "hash": "be6ef87a8889780a5ce04172e0583c73bb7fa03542406c4f5c3cbe45007f7a69"
   }
  }
 },
 "nbformat": 4,
 "nbformat_minor": 2
}
